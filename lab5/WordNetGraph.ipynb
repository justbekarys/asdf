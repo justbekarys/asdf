{
  "nbformat": 4,
  "nbformat_minor": 0,
  "metadata": {
    "colab": {
      "name": "Untitled5.ipynb",
      "provenance": [],
      "collapsed_sections": []
    },
    "kernelspec": {
      "name": "python3",
      "display_name": "Python 3"
    }
  },
  "cells": [
    {
      "cell_type": "code",
      "metadata": {
        "id": "NWXRpommrGnE",
        "colab": {
          "base_uri": "https://localhost:8080/"
        },
        "outputId": "6bf635a0-949f-4c9c-bd28-c9b0eb3d6ff8"
      },
      "source": [
        "import nltk\n",
        "nltk.download('wordnet')\n",
        "from nltk.corpus import wordnet as wn"
      ],
      "execution_count": 1,
      "outputs": [
        {
          "output_type": "stream",
          "text": [
            "[nltk_data] Downloading package wordnet to /root/nltk_data...\n",
            "[nltk_data]   Unzipping corpora/wordnet.zip.\n"
          ],
          "name": "stdout"
        }
      ]
    },
    {
      "cell_type": "code",
      "metadata": {
        "id": "b03HuQm7rh_J"
      },
      "source": [
        "def closure_graph(synset,fn):\n",
        "    seen = set()\n",
        "    node = set()\n",
        "    edge = list()\n",
        "    def recurse(s):\n",
        "        if not s in seen:\n",
        "            seen.add(s)\n",
        "            node.add(s.lemma_names('eng')[0])\n",
        "            for i in range(1, len(s.lemma_names('eng'))):\n",
        "                node.add(s.lemma_names('eng')[i])\n",
        "                edge.append({\"source\":s.lemma_names('eng')[0],\"target\":s.lemma_names('eng')[i],\"type\":\"synonym\"})\n",
        "            for s1 in fn(s):\n",
        "                node.add(s1.lemma_names('eng')[0])\n",
        "                edge.append({\"source\":s.lemma_names('eng')[0],\"target\":s1.lemma_names('eng')[0],\"type\":\"hypernym\"})\n",
        "                recurse(s1)\n",
        "    recurse(synset)\n",
        "    return (list(node), edge)"
      ],
      "execution_count": 2,
      "outputs": []
    },
    {
      "cell_type": "code",
      "metadata": {
        "colab": {
          "base_uri": "https://localhost:8080/"
        },
        "id": "djNgPg5dr0MQ",
        "outputId": "1140726a-409c-4f56-fd99-0299e99d5a3e"
      },
      "source": [
        "import json\n",
        "\n",
        "dog = wn.synset('dog.n.01')\n",
        "graph = closure_graph(dog,lambda s: s.hypernyms())\n",
        "print(graph)\n",
        "nodes = []\n",
        "nodesJson = {}\n",
        "for i in range(len(graph[0])):\n",
        "    nodes.append({\"id\":i+1, \"name\": graph[0][i]})\n",
        "    nodesJson[graph[0][i]] = i+1\n",
        "links = []\n",
        "for i in range(len(graph[1])):\n",
        "    graph[1][i]['source'] = nodesJson[graph[1][i]['source']]\n",
        "    graph[1][i]['target'] = nodesJson[graph[1][i]['target']]\n",
        "    links.append(graph[1][i])\n",
        "with open(\"wordnet.json\",\"w\") as fh:\n",
        "    json.dump({\"nodes\":nodes,\"links\":graph[1]},fh)"
      ],
      "execution_count": 3,
      "outputs": [
        {
          "output_type": "stream",
          "text": [
            "(['animal', 'eutherian_mammal', 'entity', 'whole', 'brute', 'vertebrate', 'animate_thing', 'placental_mammal', 'domesticated_animal', 'canid', 'domestic_dog', 'fauna', 'object', 'chordate', 'physical_object', 'unit', 'canine', 'being', 'craniate', 'beast', 'domestic_animal', 'carnivore', 'physical_entity', 'creature', 'placental', 'eutherian', 'animate_being', 'mammalian', 'Canis_familiaris', 'mammal', 'living_thing', 'dog', 'organism'], [{'source': 'dog', 'target': 'domestic_dog', 'type': 'synonym'}, {'source': 'dog', 'target': 'Canis_familiaris', 'type': 'synonym'}, {'source': 'dog', 'target': 'canine', 'type': 'hypernym'}, {'source': 'canine', 'target': 'canid', 'type': 'synonym'}, {'source': 'canine', 'target': 'carnivore', 'type': 'hypernym'}, {'source': 'carnivore', 'target': 'placental', 'type': 'hypernym'}, {'source': 'placental', 'target': 'placental_mammal', 'type': 'synonym'}, {'source': 'placental', 'target': 'eutherian', 'type': 'synonym'}, {'source': 'placental', 'target': 'eutherian_mammal', 'type': 'synonym'}, {'source': 'placental', 'target': 'mammal', 'type': 'hypernym'}, {'source': 'mammal', 'target': 'mammalian', 'type': 'synonym'}, {'source': 'mammal', 'target': 'vertebrate', 'type': 'hypernym'}, {'source': 'vertebrate', 'target': 'craniate', 'type': 'synonym'}, {'source': 'vertebrate', 'target': 'chordate', 'type': 'hypernym'}, {'source': 'chordate', 'target': 'animal', 'type': 'hypernym'}, {'source': 'animal', 'target': 'animate_being', 'type': 'synonym'}, {'source': 'animal', 'target': 'beast', 'type': 'synonym'}, {'source': 'animal', 'target': 'brute', 'type': 'synonym'}, {'source': 'animal', 'target': 'creature', 'type': 'synonym'}, {'source': 'animal', 'target': 'fauna', 'type': 'synonym'}, {'source': 'animal', 'target': 'organism', 'type': 'hypernym'}, {'source': 'organism', 'target': 'being', 'type': 'synonym'}, {'source': 'organism', 'target': 'living_thing', 'type': 'hypernym'}, {'source': 'living_thing', 'target': 'animate_thing', 'type': 'synonym'}, {'source': 'living_thing', 'target': 'whole', 'type': 'hypernym'}, {'source': 'whole', 'target': 'unit', 'type': 'synonym'}, {'source': 'whole', 'target': 'object', 'type': 'hypernym'}, {'source': 'object', 'target': 'physical_object', 'type': 'synonym'}, {'source': 'object', 'target': 'physical_entity', 'type': 'hypernym'}, {'source': 'physical_entity', 'target': 'entity', 'type': 'hypernym'}, {'source': 'dog', 'target': 'domestic_animal', 'type': 'hypernym'}, {'source': 'domestic_animal', 'target': 'domesticated_animal', 'type': 'synonym'}, {'source': 'domestic_animal', 'target': 'animal', 'type': 'hypernym'}])\n"
          ],
          "name": "stdout"
        }
      ]
    },
    {
      "cell_type": "code",
      "metadata": {
        "id": "603624ofgTrs"
      },
      "source": [
        ""
      ],
      "execution_count": 3,
      "outputs": []
    }
  ]
}