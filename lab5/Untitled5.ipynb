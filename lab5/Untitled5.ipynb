{
  "nbformat": 4,
  "nbformat_minor": 0,
  "metadata": {
    "colab": {
      "name": "Untitled5.ipynb",
      "provenance": []
    },
    "kernelspec": {
      "name": "python3",
      "display_name": "Python 3"
    }
  },
  "cells": [
    {
      "cell_type": "code",
      "metadata": {
        "id": "NWXRpommrGnE"
      },
      "source": [
        "from nltk.corpus import wordnet as wn"
      ],
      "execution_count": 1,
      "outputs": []
    },
    {
      "cell_type": "code",
      "metadata": {
        "id": "b03HuQm7rh_J"
      },
      "source": [
        "def closure_graph(synset,fn):\n",
        "    seen = set()\n",
        "    node = set()\n",
        "    edge = list()\n",
        "    def recurse(s):\n",
        "        if not s in seen:\n",
        "            seen.add(s)\n",
        "            node.add(s.lemma_names('eng')[0])\n",
        "            print(s.lemma_names('eng'))\n",
        "            for i in range(1, len(s.lemma_names('eng'))):\n",
        "                edge.append({\"source\":s.lemma_names('eng')[0],\"target\":s.lemma_names('eng')[i]})\n",
        "            for s1 in fn(s):\n",
        "                node.add(s1.lemma_names('eng')[0])\n",
        "                edge.append({\"source\":s.lemma_names('eng')[0],\"target\":s1.lemma_names('eng')[0]})\n",
        "                recurse(s1)\n",
        "    recurse(synset)\n",
        "    return (list(node), edge)"
      ],
      "execution_count": 2,
      "outputs": []
    },
    {
      "cell_type": "code",
      "metadata": {
        "colab": {
          "base_uri": "https://localhost:8080/"
        },
        "id": "djNgPg5dr0MQ",
        "outputId": "90ae4c2b-2b79-4ed0-e5ea-09359b3a75c3"
      },
      "source": [
        "import json\n",
        "\n",
        "dog = wn.synset('dog.n.01')\n",
        "graph = closure_graph(dog,lambda s: s.hypernyms())\n",
        "with open(\"wordnet.json\",\"w\") as fh:\n",
        "    json.dump({\"nodes\":graph[0],\"links\":graph[1]},fh)\n",
        "print(graph)"
      ],
      "execution_count": 6,
      "outputs": [
        {
          "output_type": "stream",
          "text": [
            "['dog', 'domestic_dog', 'Canis_familiaris']\n",
            "['canine', 'canid']\n",
            "['carnivore']\n",
            "['placental', 'placental_mammal', 'eutherian', 'eutherian_mammal']\n",
            "['mammal', 'mammalian']\n",
            "['vertebrate', 'craniate']\n",
            "['chordate']\n",
            "['animal', 'animate_being', 'beast', 'brute', 'creature', 'fauna']\n",
            "['organism', 'being']\n",
            "['living_thing', 'animate_thing']\n",
            "['whole', 'unit']\n",
            "['object', 'physical_object']\n",
            "['physical_entity']\n",
            "['entity']\n",
            "['domestic_animal', 'domesticated_animal']\n",
            "(['organism', 'canine', 'domestic_animal', 'living_thing', 'carnivore', 'mammal', 'object', 'vertebrate', 'whole', 'physical_entity', 'entity', 'animal', 'chordate', 'placental', 'dog'], [{'source': 'dog', 'target': 'domestic_dog'}, {'source': 'dog', 'target': 'Canis_familiaris'}, {'source': 'dog', 'target': 'canine'}, {'source': 'canine', 'target': 'canid'}, {'source': 'canine', 'target': 'carnivore'}, {'source': 'carnivore', 'target': 'placental'}, {'source': 'placental', 'target': 'placental_mammal'}, {'source': 'placental', 'target': 'eutherian'}, {'source': 'placental', 'target': 'eutherian_mammal'}, {'source': 'placental', 'target': 'mammal'}, {'source': 'mammal', 'target': 'mammalian'}, {'source': 'mammal', 'target': 'vertebrate'}, {'source': 'vertebrate', 'target': 'craniate'}, {'source': 'vertebrate', 'target': 'chordate'}, {'source': 'chordate', 'target': 'animal'}, {'source': 'animal', 'target': 'animate_being'}, {'source': 'animal', 'target': 'beast'}, {'source': 'animal', 'target': 'brute'}, {'source': 'animal', 'target': 'creature'}, {'source': 'animal', 'target': 'fauna'}, {'source': 'animal', 'target': 'organism'}, {'source': 'organism', 'target': 'being'}, {'source': 'organism', 'target': 'living_thing'}, {'source': 'living_thing', 'target': 'animate_thing'}, {'source': 'living_thing', 'target': 'whole'}, {'source': 'whole', 'target': 'unit'}, {'source': 'whole', 'target': 'object'}, {'source': 'object', 'target': 'physical_object'}, {'source': 'object', 'target': 'physical_entity'}, {'source': 'physical_entity', 'target': 'entity'}, {'source': 'dog', 'target': 'domestic_animal'}, {'source': 'domestic_animal', 'target': 'domesticated_animal'}, {'source': 'domestic_animal', 'target': 'animal'}])\n"
          ],
          "name": "stdout"
        }
      ]
    },
    {
      "cell_type": "code",
      "metadata": {
        "id": "603624ofgTrs"
      },
      "source": [
        ""
      ],
      "execution_count": 3,
      "outputs": []
    }
  ]
}