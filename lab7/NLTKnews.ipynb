{
 "cells": [
  {
   "cell_type": "code",
   "execution_count": 10,
   "metadata": {
    "colab": {
     "base_uri": "https://localhost:8080/"
    },
    "id": "p0GDELVImZbY",
    "outputId": "510ea6d1-bbc6-4bcf-8f98-1847884a913b"
   },
   "outputs": [
    {
     "name": "stdout",
     "output_type": "stream",
     "text": [
      "[nltk_data] Downloading package brown to /root/nltk_data...\n",
      "[nltk_data]   Unzipping corpora/brown.zip.\n"
     ]
    },
    {
     "data": {
      "text/plain": [
       "True"
      ]
     },
     "execution_count": 10,
     "metadata": {
      "tags": []
     },
     "output_type": "execute_result"
    }
   ],
   "source": [
    "nltk.download('brown')"
   ]
  },
  {
   "cell_type": "code",
   "execution_count": 8,
   "metadata": {
    "id": "EKWKaMnlPl4J"
   },
   "outputs": [],
   "source": [
    "from nltk.corpus import brown"
   ]
  },
  {
   "cell_type": "code",
   "execution_count": 22,
   "metadata": {
    "id": "fvdVP-XQm2hN"
   },
   "outputs": [],
   "source": [
    "texts = brown.sents(categories='news')[:10]"
   ]
  },
  {
   "cell_type": "code",
   "execution_count": 26,
   "metadata": {
    "id": "q1nE1ve3oAwK"
   },
   "outputs": [],
   "source": [
    "from nltk.corpus import stopwords"
   ]
  },
  {
   "cell_type": "code",
   "execution_count": 29,
   "metadata": {
    "colab": {
     "base_uri": "https://localhost:8080/"
    },
    "id": "sNJZ0Wy5qwhk",
    "outputId": "0ecc7398-181e-46b0-fbbb-01ca666aa1e1"
   },
   "outputs": [
    {
     "data": {
      "text/plain": [
       "107"
      ]
     },
     "execution_count": 29,
     "metadata": {
      "tags": []
     },
     "output_type": "execute_result"
    }
   ],
   "source": [
    "vocabulary = []\n",
    "newTexts = []\n",
    "for i in texts:\n",
    "  tokens_without_sw = [word.upper() for word in i if not word in stopwords.words() and not word in ['``',',','.',\"''\"]]\n",
    "  newTexts.append(tokens_without_sw)\n",
    "  for token in tokens_without_sw:\n",
    "        if token not in vocabulary:\n",
    "            vocabulary.append(token)\n",
    "\n",
    "\n",
    "word2idx = {w: idx for (idx, w) in enumerate(vocabulary)}\n",
    "len(word2idx)"
   ]
  },
  {
   "cell_type": "code",
   "execution_count": 30,
   "metadata": {
    "id": "Yj-W7ApAwPvh"
   },
   "outputs": [],
   "source": [
    "window_size = 1\n",
    "idx_pairs = []\n",
    "for sentence in newTexts:\n",
    "    indices = [word2idx[word] for word in sentence]\n",
    "    for center_word_pos in range(len(indices)):\n",
    "        for w in range(-window_size, window_size + 1):\n",
    "            context_word_pos = center_word_pos + w\n",
    "            if context_word_pos < 0 or context_word_pos >= len(indices) or center_word_pos == context_word_pos:\n",
    "                continue\n",
    "            context_word_idx = indices[context_word_pos]\n",
    "            idx_pairs.append((indices[center_word_pos], context_word_idx))\n",
    "\n",
    "idx_pairs = np.array(idx_pairs)"
   ]
  },
  {
   "cell_type": "code",
   "execution_count": 31,
   "metadata": {
    "id": "pukCq3w1yRoO"
   },
   "outputs": [],
   "source": [
    "array_occurance = [[0 for j in range(len(vocabulary))] for i in range(len(vocabulary))]"
   ]
  },
  {
   "cell_type": "code",
   "execution_count": 32,
   "metadata": {
    "id": "438FIKtAyUMz"
   },
   "outputs": [],
   "source": [
    "for i in range(len(vocabulary)):\n",
    "    for j in range(len(vocabulary)):\n",
    "        for m in range (len(idx_pairs)):\n",
    "            if (i != j):\n",
    "                if (idx_pairs[i][0] == idx_pairs[m][0]) and (idx_pairs[j][1] == idx_pairs[m][1]):\n",
    "                    array_occurance[i][j] = array_occurance[i][j] + 1"
   ]
  },
  {
   "cell_type": "code",
   "execution_count": 33,
   "metadata": {
    "id": "KBjpwpEOyX4z"
   },
   "outputs": [],
   "source": [
    "source = []\n",
    "target = []\n",
    "weight = []\n",
    "vocabulary_new = []\n",
    "for i in range(len(array_occurance)):\n",
    "    for j in range(len(array_occurance)):\n",
    "        if (array_occurance[i][j] > 2):\n",
    "            source.append(vocabulary[i])\n",
    "            target.append(vocabulary[j])\n",
    "            weight.append(array_occurance[i][j])\n",
    "            if (vocabulary[i]) not in vocabulary_new:\n",
    "                vocabulary_new.append(vocabulary[i])\n",
    "            if (vocabulary[j]) not in vocabulary_new:\n",
    "                vocabulary_new.append(vocabulary[j])"
   ]
  },
  {
   "cell_type": "code",
   "execution_count": 34,
   "metadata": {
    "colab": {
     "base_uri": "https://localhost:8080/"
    },
    "id": "V_tIqWjqybDF",
    "outputId": "5f5a244d-bf9a-4582-e749-c32b04ce8933"
   },
   "outputs": [
    {
     "data": {
      "text/plain": [
       "16"
      ]
     },
     "execution_count": 34,
     "metadata": {
      "tags": []
     },
     "output_type": "execute_result"
    }
   ],
   "source": [
    "len(vocabulary_new)"
   ]
  },
  {
   "cell_type": "code",
   "execution_count": 36,
   "metadata": {
    "id": "aBpzXZzCyk8c"
   },
   "outputs": [],
   "source": [
    "import pandas as pd"
   ]
  },
  {
   "cell_type": "code",
   "execution_count": 37,
   "metadata": {
    "id": "qDoup-pCydSz"
   },
   "outputs": [],
   "source": [
    "df = pd.DataFrame(columns = ({\"source\", \"target\",\"weight\"}))"
   ]
  },
  {
   "cell_type": "code",
   "execution_count": 38,
   "metadata": {
    "id": "vwpqEV9WygMo"
   },
   "outputs": [],
   "source": [
    "df['source'] = source\n",
    "df['target'] = target\n",
    "df['weight'] = weight"
   ]
  },
  {
   "cell_type": "code",
   "execution_count": 40,
   "metadata": {
    "id": "hV2TJUhIyouc"
   },
   "outputs": [],
   "source": [
    "df.to_csv(r'edgelist.csv')"
   ]
  },
  {
   "cell_type": "code",
   "execution_count": 41,
   "metadata": {
    "id": "lfLtLBUgyrT_"
   },
   "outputs": [],
   "source": [
    "df2 = pd.DataFrame(columns = ({\"id\"}))\n",
    "df2['id'] = vocabulary_new"
   ]
  },
  {
   "cell_type": "code",
   "execution_count": 42,
   "metadata": {
    "id": "0_OKt-lqy7K6"
   },
   "outputs": [],
   "source": [
    "df2.to_csv(r'nodelist.csv')"
   ]
  }
 ],
 "metadata": {
  "colab": {
   "name": "Untitled7.ipynb",
   "provenance": []
  },
  "kernelspec": {
   "display_name": "Python 3",
   "language": "python",
   "name": "python3"
  },
  "language_info": {
   "codemirror_mode": {
    "name": "ipython",
    "version": 3
   },
   "file_extension": ".py",
   "mimetype": "text/x-python",
   "name": "python",
   "nbconvert_exporter": "python",
   "pygments_lexer": "ipython3",
   "version": "3.8.5"
  }
 },
 "nbformat": 4,
 "nbformat_minor": 1
}
